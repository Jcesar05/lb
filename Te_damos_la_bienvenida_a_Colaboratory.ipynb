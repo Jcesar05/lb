{
  "cells": [
    {
      "cell_type": "markdown",
      "metadata": {
        "id": "view-in-github",
        "colab_type": "text"
      },
      "source": [
        "<a href=\"https://colab.research.google.com/github/Jcesar05/lb/blob/main/Te_damos_la_bienvenida_a_Colaboratory.ipynb\" target=\"_parent\"><img src=\"https://colab.research.google.com/assets/colab-badge.svg\" alt=\"Open In Colab\"/></a>"
      ]
    },
    {
      "cell_type": "markdown",
      "source": [
        "# Ejemplos de Uso de Bibliotecas\n",
        "\n",
        "**math** Se utiliza para realizar operaciones matemáticas básicas con números escalares.\n",
        "\n",
        "**numpy** Se utiliza para trabajar con arreglos y realizar operaciones matemáticas de manera eficiente.\n",
        "\n",
        "**matplotlib.pyplot** Se utiliza para crear gráficos y visualizar datos.\n",
        "\n",
        "**scipy** Permite realizar optimización y encontrar raíces de funciones.\n"
      ],
      "metadata": {
        "id": "Ar34bGe2_UMy"
      }
    },
    {
      "cell_type": "code",
      "source": [
        "import math #Instruccion para llamar la biblioteca\n",
        "x=25 #Declaracion de la variable\n",
        "resultado=math.sqrt(x) #funcion raiz cuadrada\n",
        "print(\"La raiz cuadrad de 25 es:\", resultado)"
      ],
      "metadata": {
        "id": "l7sP2z3ZCo2Z"
      },
      "execution_count": null,
      "outputs": []
    },
    {
      "cell_type": "code",
      "source": [
        "import numpy as np\n",
        "ar= np.array([1,2,3,4]) #realizarr una operacion sobre el array\n",
        "squared=np.sqrt(ar)\n",
        "print(\"Las raices cuadradas de los elementos son: \", squared)\n"
      ],
      "metadata": {
        "id": "giEI2be8FdPb"
      },
      "execution_count": null,
      "outputs": []
    },
    {
      "cell_type": "code",
      "source": [
        "import matplotlib.pyplot as plt\n",
        "x= np.linspace(-10,10,100) #genera 100 puntos de -10 a 10\n",
        "y= x**2 #funcion cuadratica\n",
        "plt.plot(x,y)\n",
        "plt.title(\"Grafico f(x) = x^2\")\n",
        "plt.xlabel(\"x\")\n",
        "plt.ylabel(\"f(x)\")\n",
        "plt.grid(True)\n",
        "plt.show()"
      ],
      "metadata": {
        "id": "KQyybBN7HKc0"
      },
      "execution_count": null,
      "outputs": []
    },
    {
      "cell_type": "code",
      "source": [],
      "metadata": {
        "id": "bjVLFWpfIyM6"
      },
      "execution_count": null,
      "outputs": []
    }
  ],
  "metadata": {
    "colab": {
      "name": "Te damos la bienvenida a Colaboratory",
      "toc_visible": true,
      "provenance": [],
      "include_colab_link": true
    },
    "kernelspec": {
      "display_name": "Python 3",
      "name": "python3"
    }
  },
  "nbformat": 4,
  "nbformat_minor": 0
}